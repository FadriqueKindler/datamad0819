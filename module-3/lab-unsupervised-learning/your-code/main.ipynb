{
 "cells": [
  {
   "cell_type": "markdown",
   "metadata": {},
   "source": [
    "# Before your start:\n",
    "- Read the README.md file\n",
    "- Comment as much as you can and use the resources in the README.md file\n",
    "- Happy learning!"
   ]
  },
  {
   "cell_type": "code",
   "execution_count": 1,
   "metadata": {},
   "outputs": [],
   "source": [
    "# Import your libraries:\n",
    "\n",
    "%matplotlib inline\n",
    "\n",
    "import matplotlib.pyplot as plt\n",
    "import numpy as np\n",
    "import pandas as pd\n",
    "from scipy.stats import skew, kurtosis\n",
    "import seaborn as sns\n",
    "from scipy import stats"
   ]
  },
  {
   "cell_type": "markdown",
   "metadata": {},
   "source": [
    "# Challenge 1 - Import and Describe the Dataset\n",
    "\n",
    "In this lab, we will use a dataset containing information about customer preferences. We will look at how much each customer spends in a year on each subcategory in the grocery store and try to find similarities using clustering.\n",
    "\n",
    "The origin of the dataset is [here](https://archive.ics.uci.edu/ml/datasets/wholesale+customers)."
   ]
  },
  {
   "cell_type": "code",
   "execution_count": 2,
   "metadata": {},
   "outputs": [],
   "source": [
    "# loading the data:\n",
    "customers = pd.read_csv('../Wholesale customers data.csv')"
   ]
  },
  {
   "cell_type": "markdown",
   "metadata": {},
   "source": [
    "#### Explore the dataset with mathematical and visualization techniques. What do you find?\n",
    "\n",
    "Checklist:\n",
    "\n",
    "* What does each column mean?\n",
    "* Any categorical data to convert?\n",
    "* Any missing data to remove?\n",
    "* Column collinearity - any high correlations?\n",
    "* Descriptive statistics - any outliers to remove?\n",
    "* Column-wise data distribution - is the distribution skewed?\n",
    "* Etc.\n",
    "\n",
    "Additional info: Over a century ago, an Italian economist named Vilfredo Pareto discovered that roughly 20% of the customers account for 80% of the typical retail sales. This is called the [Pareto principle](https://en.wikipedia.org/wiki/Pareto_principle). Check if this dataset displays this characteristic."
   ]
  },
  {
   "cell_type": "code",
   "execution_count": 3,
   "metadata": {},
   "outputs": [
    {
     "name": "stdout",
     "output_type": "stream",
     "text": [
      "   Channel  Region  Fresh  Milk  Grocery  Frozen  Detergents_Paper  Delicassen\n",
      "0        2       3  12669  9656     7561     214              2674        1338\n",
      "1        2       3   7057  9810     9568    1762              3293        1776\n",
      "2        2       3   6353  8808     7684    2405              3516        7844\n",
      "3        1       3  13265  1196     4221    6404               507        1788\n",
      "4        2       3  22615  5410     7198    3915              1777        5185\n"
     ]
    }
   ],
   "source": [
    "## CHECKING DF & COLUMN NAMES\n",
    "\n",
    "print(customers.head()) \n"
   ]
  },
  {
   "cell_type": "code",
   "execution_count": 4,
   "metadata": {},
   "outputs": [
    {
     "name": "stdout",
     "output_type": "stream",
     "text": [
      "Channel             int64\n",
      "Region              int64\n",
      "Fresh               int64\n",
      "Milk                int64\n",
      "Grocery             int64\n",
      "Frozen              int64\n",
      "Detergents_Paper    int64\n",
      "Delicassen          int64\n",
      "dtype: object\n"
     ]
    }
   ],
   "source": [
    "## CHECKING VALUE TYPES DF\n",
    "\n",
    "print(customers.dtypes)\n"
   ]
  },
  {
   "cell_type": "code",
   "execution_count": 5,
   "metadata": {},
   "outputs": [
    {
     "name": "stdout",
     "output_type": "stream",
     "text": [
      "shape : (440, 8)\n"
     ]
    }
   ],
   "source": [
    "## CHECKING DF SHAPE\n",
    "\n",
    "print(\"shape : \" + str(customers.shape))\n"
   ]
  },
  {
   "cell_type": "code",
   "execution_count": 6,
   "metadata": {},
   "outputs": [
    {
     "name": "stdout",
     "output_type": "stream",
     "text": [
      "Unique values for Region: [3 1 2]\n",
      "Unique values for Channel: [2 1]\n"
     ]
    }
   ],
   "source": [
    "## CHECKING FOR UNIQUE VALUES IN COLUMNS\n",
    "\n",
    "print(\"Unique values for Region: \" + str(customers.Region.unique()))\n",
    "print(\"Unique values for Channel: \" + str(customers.Channel.unique()))\n"
   ]
  },
  {
   "cell_type": "code",
   "execution_count": 7,
   "metadata": {},
   "outputs": [
    {
     "name": "stdout",
     "output_type": "stream",
     "text": [
      "Checking Null values by Column : Channel             0\n",
      "Region              0\n",
      "Fresh               0\n",
      "Milk                0\n",
      "Grocery             0\n",
      "Frozen              0\n",
      "Detergents_Paper    0\n",
      "Delicassen          0\n",
      "dtype: int64\n"
     ]
    }
   ],
   "source": [
    "## CHECKING NUM OF NULL VALUES PER COLUMN\n",
    "\n",
    "print(\"Checking Null values by Column : \" + str(customers.isna().sum()))\n"
   ]
  },
  {
   "cell_type": "code",
   "execution_count": 8,
   "metadata": {},
   "outputs": [
    {
     "name": "stdout",
     "output_type": "stream",
     "text": [
      "          Channel      Region          Fresh          Milk       Grocery  \\\n",
      "count  440.000000  440.000000     440.000000    440.000000    440.000000   \n",
      "mean     1.322727    2.543182   12000.297727   5796.265909   7951.277273   \n",
      "std      0.468052    0.774272   12647.328865   7380.377175   9503.162829   \n",
      "min      1.000000    1.000000       3.000000     55.000000      3.000000   \n",
      "25%      1.000000    2.000000    3127.750000   1533.000000   2153.000000   \n",
      "50%      1.000000    3.000000    8504.000000   3627.000000   4755.500000   \n",
      "75%      2.000000    3.000000   16933.750000   7190.250000  10655.750000   \n",
      "max      2.000000    3.000000  112151.000000  73498.000000  92780.000000   \n",
      "\n",
      "             Frozen  Detergents_Paper    Delicassen  \n",
      "count    440.000000        440.000000    440.000000  \n",
      "mean    3071.931818       2881.493182   1524.870455  \n",
      "std     4854.673333       4767.854448   2820.105937  \n",
      "min       25.000000          3.000000      3.000000  \n",
      "25%      742.250000        256.750000    408.250000  \n",
      "50%     1526.000000        816.500000    965.500000  \n",
      "75%     3554.250000       3922.000000   1820.250000  \n",
      "max    60869.000000      40827.000000  47943.000000  \n"
     ]
    }
   ],
   "source": [
    "## MORE IN-DEPTH DESCRIPTION OF DF VALUES\n",
    "\n",
    "print(customers.describe())\n"
   ]
  },
  {
   "cell_type": "code",
   "execution_count": 55,
   "metadata": {},
   "outputs": [
    {
     "ename": "SyntaxError",
     "evalue": "invalid syntax (<ipython-input-55-360590399451>, line 2)",
     "output_type": "error",
     "traceback": [
      "\u001b[0;36m  File \u001b[0;32m\"<ipython-input-55-360590399451>\"\u001b[0;36m, line \u001b[0;32m2\u001b[0m\n\u001b[0;31m    median = customers.\"{}\".median().format(column_name)\u001b[0m\n\u001b[0m                          ^\u001b[0m\n\u001b[0;31mSyntaxError\u001b[0m\u001b[0;31m:\u001b[0m invalid syntax\n"
     ]
    }
   ],
   "source": [
    "def mode_and_median(column_name):\n",
    "    median = customers.\"{}\".median().format(column_name)\n",
    "    mode = customers.\"{}\".mode().format(column_name)\n",
    "    return(\"The mode and median for column {} is : \" + str (median) + str (max(mode))).format(column_name)\n",
    "\n",
    "mode_and_median(Fresh)\n"
   ]
  },
  {
   "cell_type": "code",
   "execution_count": 9,
   "metadata": {},
   "outputs": [
    {
     "name": "stdout",
     "output_type": "stream",
     "text": [
      "Fresh median: 8504.0\n",
      "Milk median: 3627.0\n",
      "Grocery median: 4755.5\n",
      "Frozen median: 1526.0\n",
      "Detergents_Paper median: 816.5\n",
      "Delicassen median: 965.5\n",
      "Channel median: 1.0\n",
      "Region median: 3.0\n",
      "Fresh mode: 18044\n",
      "Milk mode: 5139\n",
      "Grocery mode: 10391\n",
      "Frozen mode: 4324\n",
      "Detergents_Paper mode: 955\n",
      "Delicassen mode: 834\n",
      "Channel mode: 1\n",
      "Region mode: 3\n"
     ]
    }
   ],
   "source": [
    "## FINDING MEDIAN AND MODE FOR ALL COLUMNS\n",
    "\n",
    "print(\"Fresh median: \" + str (customers.Fresh.median()))\n",
    "print(\"Milk median: \" + str (customers.Milk.median()))\n",
    "print(\"Grocery median: \" + str (customers.Grocery.median()))\n",
    "print(\"Frozen median: \" + str (customers.Frozen.median()))\n",
    "print(\"Detergents_Paper median: \" + str (customers.Detergents_Paper.median()))\n",
    "print(\"Delicassen median: \" + str (customers.Delicassen.median()))\n",
    "print(\"Channel median: \" + str (customers.Channel.median()))\n",
    "print(\"Region median: \" + str (customers.Region.median()))\n",
    "\n",
    "print(\"Fresh mode: \" + str (max(customers.Fresh.mode())))\n",
    "print(\"Milk mode: \" + str (max(customers.Milk.mode())))\n",
    "print(\"Grocery mode: \" + str (max(customers.Grocery.mode())))\n",
    "print(\"Frozen mode: \" + str (max(customers.Frozen.mode())))\n",
    "print(\"Detergents_Paper mode: \" + str (max(customers.Detergents_Paper.mode())))\n",
    "print(\"Delicassen mode: \" + str (max(customers.Delicassen.mode())))\n",
    "print(\"Channel mode: \" + str (max(customers.Channel.mode())))\n",
    "print(\"Region mode: \" + str (max(customers.Region.mode())))"
   ]
  },
  {
   "cell_type": "code",
   "execution_count": 113,
   "metadata": {},
   "outputs": [
    {
     "data": {
      "text/plain": [
       "<matplotlib.axes._subplots.AxesSubplot at 0x1a1ae8a510>"
      ]
     },
     "execution_count": 113,
     "metadata": {},
     "output_type": "execute_result"
    },
    {
     "data": {
      "image/png": "[encoded data removed]",
      "text/plain": [
       "<Figure size 432x288 with 1 Axes>"
      ]
     },
     "metadata": {
      "needs_background": "light"
     },
     "output_type": "display_data"
    },
    {
     "data": {
      "image/png": "[encoded data removed]",
      "text/plain": [
       "<Figure size 432x288 with 1 Axes>"
      ]
     },
     "metadata": {
      "needs_background": "light"
     },
     "output_type": "display_data"
    },
    {
     "data": {
      "image/png": "[encoded data removed]",
      "text/plain": [
       "<Figure size 432x288 with 1 Axes>"
      ]
     },
     "metadata": {
      "needs_background": "light"
     },
     "output_type": "display_data"
    },
    {
     "data": {
      "image/png": "[encoded data removed]",
      "text/plain": [
       "<Figure size 432x288 with 1 Axes>"
      ]
     },
     "metadata": {
      "needs_background": "light"
     },
     "output_type": "display_data"
    },
    {
     "data": {
      "image/png": "[encoded data removed]",
      "text/plain": [
       "<Figure size 432x288 with 1 Axes>"
      ]
     },
     "metadata": {
      "needs_background": "light"
     },
     "output_type": "display_data"
    },
    {
     "data": {
      "image/png": "[encoded data removed]",
      "text/plain": [
       "<Figure size 432x288 with 1 Axes>"
      ]
     },
     "metadata": {
      "needs_background": "light"
     },
     "output_type": "display_data"
    }
   ],
   "source": [
    "## FUNCTION FOR PLOTTING HISTOGRAMS\n",
    "\n",
    "def plot_hist(df):\n",
    "    df = df.drop(columns = [\"Channel\", \"Region\"])\n",
    "    for col in df.columns:\n",
    "        _arr = np.array(customers[col])\n",
    "        _df = pd.DataFrame(_arr)\n",
    "        _df_pow = _df.apply(np.sqrt)\n",
    "        plot = _df_pow.plot.hist(alpha=0.5, bins=35, grid=True, legend=None);\n",
    "        #plt.title(customers[col]) # NAME ALL HISTOGRAMS WITH COL NAME\n",
    "    return plot\n",
    "\n",
    "plot_hist(customers)"
   ]
  },
  {
   "cell_type": "code",
   "execution_count": 67,
   "metadata": {},
   "outputs": [
    {
     "data": {
      "text/plain": [
       "<matplotlib.axes._subplots.AxesSubplot at 0x1a1af29050>"
      ]
     },
     "execution_count": 67,
     "metadata": {},
     "output_type": "execute_result"
    },
    {
     "data": {
      "image/png": "[encoded data removed]",
      "text/plain": [
       "<Figure size 432x288 with 1 Axes>"
      ]
     },
     "metadata": {
      "needs_background": "light"
     },
     "output_type": "display_data"
    },
    {
     "data": {
      "image/png": "[encoded data removed]",
      "text/plain": [
       "<Figure size 432x288 with 1 Axes>"
      ]
     },
     "metadata": {
      "needs_background": "light"
     },
     "output_type": "display_data"
    },
    {
     "data": {
      "image/png": "[encoded data removed]",
      "text/plain": [
       "<Figure size 432x288 with 1 Axes>"
      ]
     },
     "metadata": {
      "needs_background": "light"
     },
     "output_type": "display_data"
    },
    {
     "data": {
      "image/png": "[encoded data removed]",
      "text/plain": [
       "<Figure size 432x288 with 1 Axes>"
      ]
     },
     "metadata": {
      "needs_background": "light"
     },
     "output_type": "display_data"
    },
    {
     "data": {
      "image/png": "[encoded data removed]",
      "text/plain": [
       "<Figure size 432x288 with 1 Axes>"
      ]
     },
     "metadata": {
      "needs_background": "light"
     },
     "output_type": "display_data"
    }
   ],
   "source": [
    "fresh_arr = np.array(customers['Fresh'])\n",
    "fresh_df = pd.DataFrame(fresh_arr)\n",
    "fresh_df_pow = fresh_df.apply(np.sqrt) # Fit a normal distribution to the data\n",
    "#param = stats.norm.fit(fresh_df_pow)\n",
    "#x = np.linspace(0, 20, 100)\n",
    "#pdf_fitted = stats.norm.pdf(x, *param)\n",
    "#fresh_df_pow.plot.hist(alpha=0.5, bins=35, grid=True, legend=None)\n",
    "#plt.plot(x, pdf_fitted, color='r')\n",
    "\n",
    "milk_arr = np.array(customers['Milk'])\n",
    "milk_df = pd.DataFrame(milk_arr)\n",
    "milk_df_pow = milk_df.apply(np.sqrt)\n",
    "milk_df_pow.plot.hist(alpha=0.5, bins=35, grid=True, legend=None)\n",
    "\n",
    "\n",
    "grocery_arr = np.array(customers['Grocery'])\n",
    "grocery_df = pd.DataFrame(grocery_arr)\n",
    "grocery_df_pow = grocery_df.apply(np.sqrt)\n",
    "grocery_df_pow.plot.hist(alpha=0.5, bins=35, grid=True, legend=None)\n",
    "\n",
    "\n",
    "frozen_arr = np.array(customers['Frozen'])\n",
    "frozen_df = pd.DataFrame(frozen_arr)\n",
    "frozen_df_pow = frozen_df.apply(np.sqrt)\n",
    "frozen_df_pow.plot.hist(alpha=0.5, bins=35, grid=True, legend=None)\n",
    "\n",
    "\n",
    "detergentsPaper_arr = np.array(customers['Detergents_Paper'])\n",
    "detergentsPaper_df = pd.DataFrame(detergentsPaper_arr)\n",
    "detergentsPaper_df_pow = detergentsPaper_df.apply(np.sqrt)\n",
    "detergentsPaper_df_pow.plot.hist(alpha=0.5, bins=35, grid=True, legend=None)\n",
    "\n",
    "\n",
    "delicassen_arr = np.array(customers['Delicassen'])\n",
    "delicassen_df = pd.DataFrame(delicassen_arr)\n",
    "delicassen_df_pow = delicassen_df.apply(np.sqrt)\n",
    "delicassen_df_pow.plot.hist(alpha=0.5, bins=35, grid=True, legend=None)\n",
    "\n",
    "\n",
    "#channel_arr = np.array(customers['Channel'])   # Not enough values \n",
    "#channel_df = pd.DataFrame(channel_arr)   \n",
    "#channel_df.plot.hist(alpha=0.5, bins=15, grid=True, legend=None)   \n",
    "\n",
    "#region_arr = np.array(customers['Region'])   # Not enough values\n",
    "#region_df = pd.DataFrame(region_arr)\n",
    "#region_df.plot.hist(alpha=0.5, bins=15, grid=True, legend=None)\n"
   ]
  },
  {
   "cell_type": "code",
   "execution_count": 11,
   "metadata": {},
   "outputs": [
    {
     "data": {
      "image/png": "[encoded data removed]",
      "text/plain": [
       "<Figure size 576x576 with 2 Axes>"
      ]
     },
     "metadata": {
      "needs_background": "light"
     },
     "output_type": "display_data"
    }
   ],
   "source": [
    "## CHECKING CORRELATION BETWEEN COLUMNS\n",
    "correlation_matrix = customers.corr()\n",
    "fig, ax = plt.subplots(figsize=(8,8))\n",
    "corr_heat_map = sns.heatmap(correlation_matrix, annot = True, square= True, ax=ax)\n",
    "corr_heat_map;\n"
   ]
  },
  {
   "cell_type": "code",
   "execution_count": 12,
   "metadata": {},
   "outputs": [
    {
     "data": {
      "text/plain": [
       "'\\nFRESH: annual spending (m.u.) on fresh products (Continuous);\\nMILK: annual spending (m.u.) on milk products (Continuous);\\nGROCERY: annual spending (m.u.) on grocery products (Continuous);\\nFROZEN: annual spending (m.u.) on frozen products (Continuous)\\nDETERGENTS_PAPER: annual spending (m.u.) on detergents and paper products (Continuous)\\nDELICATESSEN: annual spending (m.u.) on and delicatessen products (Continuous);\\nCHANNEL: customer Channel - Horeca (Hotel/Restaurant/Cafe) or Retail channel (Nominal)\\nREGION: customers Region: Lisbon, Oporto or Other (Nominal)\\n\\n(Minimum, Maximum, Mean, Std. Deviation)\\nFRESH (3, 112151, 12000.30, 12647.329)\\nMILK (55, 73498, 5796.27, 7380.377)\\nGROCERY (3, 92780, 7951.28, 9503.163)\\nFROZEN (25, 60869, 3071.93, 4854.673)\\nDETERGENTS_PAPER (3, 40827, 2881.49, 4767.854)\\nDELICATESSEN (3, 47943, 1524.87, 2820.106)\\n\\nREGION Frequency\\nLisbon 77\\nOporto 47\\nOther Region 316\\nTotal 440\\n\\nCHANNEL Frequency\\nHoreca 298\\nRetail 142\\nTotal 440\\n'"
      ]
     },
     "execution_count": 12,
     "metadata": {},
     "output_type": "execute_result"
    }
   ],
   "source": [
    "## MY OBSERVATIONS\n",
    "\n",
    "## What does each column mean?\n",
    "# DESCRIPTION OF COLUMNS\n",
    "\n",
    "\"\"\"\n",
    "FRESH: annual spending (m.u.) on fresh products (Continuous);\n",
    "MILK: annual spending (m.u.) on milk products (Continuous);\n",
    "GROCERY: annual spending (m.u.) on grocery products (Continuous);\n",
    "FROZEN: annual spending (m.u.) on frozen products (Continuous)\n",
    "DETERGENTS_PAPER: annual spending (m.u.) on detergents and paper products (Continuous)\n",
    "DELICATESSEN: annual spending (m.u.) on and delicatessen products (Continuous);\n",
    "CHANNEL: customer Channel - Horeca (Hotel/Restaurant/Cafe) or Retail channel (Nominal)\n",
    "REGION: customers Region: Lisbon, Oporto or Other (Nominal)\n",
    "\n",
    "(Minimum, Maximum, Mean, Std. Deviation)\n",
    "FRESH (3, 112151, 12000.30, 12647.329)\n",
    "MILK (55, 73498, 5796.27, 7380.377)\n",
    "GROCERY (3, 92780, 7951.28, 9503.163)\n",
    "FROZEN (25, 60869, 3071.93, 4854.673)\n",
    "DETERGENTS_PAPER (3, 40827, 2881.49, 4767.854)\n",
    "DELICATESSEN (3, 47943, 1524.87, 2820.106)\n",
    "\n",
    "REGION Frequency\n",
    "Lisbon 77\n",
    "Oporto 47\n",
    "Other Region 316\n",
    "Total 440\n",
    "\n",
    "CHANNEL Frequency\n",
    "Horeca 298\n",
    "Retail 142\n",
    "Total 440\n",
    "\"\"\"\n",
    "\n",
    "## Any categorical data to convert?\n",
    "# NO\n",
    "\n",
    "## Descriptive statistics - any outliers to remove?\n",
    "# THERE ARE OUTLIERS TO REMOVE\n",
    "\n",
    "## Any missing data to remove?\n",
    "# NO\n",
    "\n",
    "## Column collinearity - any high correlations?\n",
    "# Milk and Grocery - High 0.73\n",
    "# Milk and Detergents_Paper - High 0.66\n",
    "# Grocery and Channel - High 0.61\n",
    "# Detergents_Paper and Channel - High 0.64\n",
    "\n",
    "## Column-wise data distribution - is the distribution skewed?\n",
    "# THE DISTRIBUTION IS VERY SKEWED IN ALL COLUMNS\n",
    "\n",
    "## ETC\n",
    "# VALUE RANGES IN COLUMNS DIFFER GREATLY. STANDARIZATION NECESSARY\n"
   ]
  },
  {
   "cell_type": "markdown",
   "metadata": {},
   "source": [
    "# Challenge 2 - Data Cleaning and Transformation\n",
    "\n",
    "If your conclusion from the previous challenge is the data need cleaning/transformation, do it in the cells below. However, if your conclusion is the data need not be cleaned or transformed, feel free to skip this challenge. But if you do choose the latter, please provide rationale."
   ]
  },
  {
   "cell_type": "code",
   "execution_count": 107,
   "metadata": {},
   "outputs": [
    {
     "name": "stdout",
     "output_type": "stream",
     "text": [
      "['Channel', 'Region', 'Fresh', 'Milk', 'Grocery', 'Frozen', 'Detergents_Paper', 'Delicassen']\n"
     ]
    },
    {
     "data": {
      "text/plain": [
       "<matplotlib.axes._subplots.AxesSubplot at 0x1a1bd32f90>"
      ]
     },
     "execution_count": 107,
     "metadata": {},
     "output_type": "execute_result"
    },
    {
     "data": {
      "image/png": "[encoded data removed]",
      "text/plain": [
       "<Figure size 432x288 with 1 Axes>"
      ]
     },
     "metadata": {
      "needs_background": "light"
     },
     "output_type": "display_data"
    },
    {
     "data": {
      "image/png": "[encoded data removed]",
      "text/plain": [
       "<Figure size 432x288 with 1 Axes>"
      ]
     },
     "metadata": {
      "needs_background": "light"
     },
     "output_type": "display_data"
    },
    {
     "data": {
      "image/png": "[encoded data removed]",
      "text/plain": [
       "<Figure size 432x288 with 1 Axes>"
      ]
     },
     "metadata": {
      "needs_background": "light"
     },
     "output_type": "display_data"
    },
    {
     "data": {
      "image/png": "[encoded data removed]",
      "text/plain": [
       "<Figure size 432x288 with 1 Axes>"
      ]
     },
     "metadata": {
      "needs_background": "light"
     },
     "output_type": "display_data"
    },
    {
     "data": {
      "image/png": "[encoded data removed]",
      "text/plain": [
       "<Figure size 432x288 with 1 Axes>"
      ]
     },
     "metadata": {
      "needs_background": "light"
     },
     "output_type": "display_data"
    },
    {
     "data": {
      "image/png": "[encoded data removed]",
      "text/plain": [
       "<Figure size 432x288 with 1 Axes>"
      ]
     },
     "metadata": {
      "needs_background": "light"
     },
     "output_type": "display_data"
    }
   ],
   "source": [
    "columns_lst = list(customers)\n",
    "print(columns_lst)\n",
    "\n",
    "def plot_no_outliers_hist(df):\n",
    "    df = df.drop(columns = [\"Channel\", \"Region\"])\n",
    "    for col in df.columns:\n",
    "        mean = np.mean(df[col], axis=0)\n",
    "        sd = np.std(df[col], axis=0)\n",
    "        final_list = [x for x in df[col] if (x > mean - 2 * sd)]\n",
    "        final_list = [x for x in final_list if (x < mean + 2 * sd)]\n",
    "        df_no_outliers = pd.DataFrame(final_list)\n",
    "        df_pow= df_no_outliers.apply(np.sqrt)\n",
    "        plots = df_pow.plot.hist(alpha=0.5, bins=35, grid=True, legend=None);\n",
    "    return plots\n",
    "plot_no_outliers_hist(customers)"
   ]
  },
  {
   "cell_type": "code",
   "execution_count": 21,
   "metadata": {},
   "outputs": [
    {
     "data": {
      "image/png": "[encoded data removed]",
      "text/plain": [
       "<Figure size 432x288 with 1 Axes>"
      ]
     },
     "metadata": {
      "needs_background": "light"
     },
     "output_type": "display_data"
    }
   ],
   "source": [
    "## WE REMOVE OUTLIERS FOR EACH COLUMN\n",
    "\n",
    "fresh_mean = np.mean(fresh_arr, axis=0)\n",
    "fresh_sd = np.std(fresh_arr, axis=0)\n",
    "\n",
    "fresh_final_list = [x for x in customers['Grocery'] if (x > mean - 2 * fresh_sd)]\n",
    "fresh_final_list = [x for x in fresh_final_list if (x < mean + 2 * fresh_sd)]\n",
    "\n",
    "fresh_df_2 = pd.DataFrame(fresh_final_list)\n",
    "fresh_df_pow= fresh_df_2.apply(np.sqrt)\n",
    "fresh_df_pow.plot.hist(alpha=0.5, bins=35, grid=True, legend=None);\n"
   ]
  },
  {
   "cell_type": "code",
   "execution_count": null,
   "metadata": {},
   "outputs": [],
   "source": []
  },
  {
   "cell_type": "code",
   "execution_count": null,
   "metadata": {},
   "outputs": [],
   "source": []
  },
  {
   "cell_type": "code",
   "execution_count": null,
   "metadata": {},
   "outputs": [],
   "source": []
  },
  {
   "cell_type": "code",
   "execution_count": null,
   "metadata": {},
   "outputs": [],
   "source": []
  },
  {
   "cell_type": "code",
   "execution_count": null,
   "metadata": {},
   "outputs": [],
   "source": []
  },
  {
   "cell_type": "code",
   "execution_count": null,
   "metadata": {},
   "outputs": [],
   "source": []
  },
  {
   "cell_type": "code",
   "execution_count": null,
   "metadata": {},
   "outputs": [],
   "source": [
    "# Your comment here\n",
    "\n"
   ]
  },
  {
   "cell_type": "markdown",
   "metadata": {},
   "source": [
    "# Challenge 3 - Data Preprocessing\n",
    "\n",
    "One problem with the dataset is the value ranges are remarkably different across various categories (e.g. `Fresh` and `Grocery` compared to `Detergents_Paper` and `Delicassen`). If you made this observation in the first challenge, you've done a great job! This means you not only completed the bonus questions in the previous Supervised Learning lab but also researched deep into [*feature scaling*](https://en.wikipedia.org/wiki/Feature_scaling). Keep on the good work!\n",
    "\n",
    "Diverse value ranges in different features could cause issues in our clustering. The way to reduce the problem is through feature scaling. We'll use this technique again with this dataset.\n",
    "\n",
    "#### We will use the `StandardScaler` from `sklearn.preprocessing` and scale our data. Read more about `StandardScaler` [here](https://scikit-learn.org/stable/modules/generated/sklearn.preprocessing.StandardScaler.html#sklearn.preprocessing.StandardScaler).\n",
    "\n",
    "*After scaling your data, assign the transformed data to a new variable `customers_scale`.*"
   ]
  },
  {
   "cell_type": "code",
   "execution_count": null,
   "metadata": {},
   "outputs": [],
   "source": [
    "# Your import here:\n",
    "\n",
    "from sklearn.preprocessing import StandardScaler\n",
    "\n",
    "# Your code here:\n"
   ]
  },
  {
   "cell_type": "markdown",
   "metadata": {},
   "source": [
    "# Challenge 3 - Data Clustering with K-Means\n",
    "\n",
    "Now let's cluster the data with K-Means first. Initiate the K-Means model, then fit your scaled data. In the data returned from the `.fit` method, there is an attribute called `labels_` which is the cluster number assigned to each data record. What you can do is to assign these labels back to `customers` in a new column called `customers['labels']`. Then you'll see the cluster results of the original data."
   ]
  },
  {
   "cell_type": "code",
   "execution_count": null,
   "metadata": {
    "scrolled": true
   },
   "outputs": [],
   "source": [
    "# Your code here:\n"
   ]
  },
  {
   "cell_type": "markdown",
   "metadata": {},
   "source": [
    "Count the values in `labels`."
   ]
  },
  {
   "cell_type": "code",
   "execution_count": null,
   "metadata": {},
   "outputs": [],
   "source": [
    "# Your code here:\n"
   ]
  },
  {
   "cell_type": "markdown",
   "metadata": {},
   "source": [
    "# Challenge 4 - Data Clustering with DBSCAN\n",
    "\n",
    "Now let's cluster the data using DBSCAN. Use `DBSCAN(eps=0.5)` to initiate the model, then fit your scaled data. In the data returned from the `.fit` method, assign the `labels_` back to `customers['labels_DBSCAN']`. Now your original data have two labels, one from K-Means and the other from DBSCAN."
   ]
  },
  {
   "cell_type": "code",
   "execution_count": null,
   "metadata": {
    "scrolled": true
   },
   "outputs": [],
   "source": [
    "# Your code here\n"
   ]
  },
  {
   "cell_type": "markdown",
   "metadata": {},
   "source": [
    "Count the values in `labels_DBSCAN`."
   ]
  },
  {
   "cell_type": "code",
   "execution_count": null,
   "metadata": {},
   "outputs": [],
   "source": [
    "# Your code here\n"
   ]
  },
  {
   "cell_type": "markdown",
   "metadata": {},
   "source": [
    "# Challenge 5 - Compare K-Means with DBSCAN\n",
    "\n",
    "Now we want to visually compare how K-Means and DBSCAN have clustered our data. We will create scatter plots for several columns. For each of the following column pairs, plot a scatter plot using `labels` and another using `labels_DBSCAN`. Put them side by side to compare. Which clustering algorithm makes better sense?\n",
    "\n",
    "Columns to visualize:\n",
    "\n",
    "* `Detergents_Paper` as X and `Milk` as y\n",
    "* `Grocery` as X and `Fresh` as y\n",
    "* `Frozen` as X and `Delicassen` as y"
   ]
  },
  {
   "cell_type": "markdown",
   "metadata": {},
   "source": [
    "Visualize `Detergents_Paper` as X and `Milk` as y by `labels` and `labels_DBSCAN` respectively"
   ]
  },
  {
   "cell_type": "code",
   "execution_count": null,
   "metadata": {},
   "outputs": [],
   "source": [
    "# Your code here:\n"
   ]
  },
  {
   "cell_type": "markdown",
   "metadata": {},
   "source": [
    "Visualize `Grocery` as X and `Fresh` as y by `labels` and `labels_DBSCAN` respectively"
   ]
  },
  {
   "cell_type": "code",
   "execution_count": null,
   "metadata": {},
   "outputs": [],
   "source": [
    "# Your code here:\n"
   ]
  },
  {
   "cell_type": "markdown",
   "metadata": {},
   "source": [
    "Visualize `Frozen` as X and `Delicassen` as y by `labels` and `labels_DBSCAN` respectively"
   ]
  },
  {
   "cell_type": "code",
   "execution_count": null,
   "metadata": {},
   "outputs": [],
   "source": [
    "# Your code here:"
   ]
  },
  {
   "cell_type": "markdown",
   "metadata": {},
   "source": [
    "Let's use a groupby to see how the mean differs between the groups. Group `customers` by `labels` and `labels_DBSCAN` respectively and compute the means for all columns."
   ]
  },
  {
   "cell_type": "code",
   "execution_count": null,
   "metadata": {},
   "outputs": [],
   "source": [
    "# Your code here:\n"
   ]
  },
  {
   "cell_type": "markdown",
   "metadata": {},
   "source": [
    "Which algorithm appears to perform better?"
   ]
  },
  {
   "cell_type": "code",
   "execution_count": null,
   "metadata": {},
   "outputs": [],
   "source": [
    "# Your observations here"
   ]
  },
  {
   "cell_type": "markdown",
   "metadata": {},
   "source": [
    "# Bonus Challenge 2 - Changing K-Means Number of Clusters\n",
    "\n",
    "As we mentioned earlier, we don't need to worry about the number of clusters with DBSCAN because it automatically decides that based on the parameters we send to it. But with K-Means, we have to supply the `n_clusters` param (if you don't supply `n_clusters`, the algorithm will use `8` by default). You need to know that the optimal number of clusters differs case by case based on the dataset. K-Means can perform badly if the wrong number of clusters is used.\n",
    "\n",
    "In advanced machine learning, data scientists try different numbers of clusters and evaluate the results with statistical measures (read [here](https://en.wikipedia.org/wiki/Cluster_analysis#External_evaluation)). We are not using statistical measures today but we'll use our eyes instead. In the cells below, experiment with different number of clusters and visualize with scatter plots. What number of clusters seems to work best for K-Means?"
   ]
  },
  {
   "cell_type": "code",
   "execution_count": null,
   "metadata": {},
   "outputs": [],
   "source": [
    "# Your code here"
   ]
  },
  {
   "cell_type": "code",
   "execution_count": null,
   "metadata": {},
   "outputs": [],
   "source": [
    "# Your comment here"
   ]
  },
  {
   "cell_type": "markdown",
   "metadata": {},
   "source": [
    "# Bonus Challenge 3 - Changing DBSCAN `eps` and `min_samples`\n",
    "\n",
    "Experiment changing the `eps` and `min_samples` params for DBSCAN. See how the results differ with scatter plot visualization."
   ]
  },
  {
   "cell_type": "code",
   "execution_count": null,
   "metadata": {},
   "outputs": [],
   "source": [
    "# Your code here"
   ]
  },
  {
   "cell_type": "code",
   "execution_count": null,
   "metadata": {},
   "outputs": [],
   "source": [
    "# Your comment here"
   ]
  },
  {
   "cell_type": "code",
   "execution_count": null,
   "metadata": {},
   "outputs": [],
   "source": []
  },
  {
   "cell_type": "code",
   "execution_count": null,
   "metadata": {},
   "outputs": [],
   "source": []
  },
  {
   "cell_type": "code",
   "execution_count": null,
   "metadata": {},
   "outputs": [],
   "source": [
    "################################# DISCARDED WORK ##########################################"
   ]
  },
  {
   "cell_type": "code",
   "execution_count": null,
   "metadata": {},
   "outputs": [],
   "source": [
    "## FINDING SKEWNESS AND KURTOSIS FOR EACH COLUMN\n",
    "\n",
    "\n",
    "#freshToList = customers['Fresh'].tolist()\n",
    "#print(\"Fresh Skewness: \" + str(skew(freshToList)))\n",
    "#print(\"Fresh Kurtosis: \" + str(kurtosis(freshToList)))\n",
    "\n",
    "#milkToList = customers['Milk'].tolist()\n",
    "#print(\"Milk Skewness: \" + str(skew(milkToList)))\n",
    "#print(\"Milk Kurtosis: \" + str(kurtosis(milkToList)))\n",
    "\n",
    "#groceryToList = customers['Grocery'].tolist()\n",
    "#print(\"Grocery Skewness: \" + str(skew(groceryToList)))\n",
    "#print(\"Grocery Kurtosis: \" + str(kurtosis(groceryToList)))\n",
    "\n",
    "#frozenToList = customers['Frozen'].tolist()\n",
    "#print(\"Frozen Skewness: \" + str(skew(frozenToList)))\n",
    "#print(\"Frozen Kurtosis: \" + str(kurtosis(frozenToList)))\n",
    "\n",
    "#detergentsPaperToList = customers['Detergents_Paper'].tolist()\n",
    "#print(\"DetergentsPaper Skewness: \" + str(skew(detergentsPaperToList)))\n",
    "#print(\"DetergentsPaper Kurtosis: \" + str(kurtosis(detergentsPaperToList)))\n",
    "\n",
    "#delicassenToList = customers['Delicassen'].tolist()\n",
    "#print(\"Delicassen Skewness: \" + str(skew(delicassenToList)))\n",
    "#print(\"Delicassen Kurtosis: \" + str(kurtosis(delicassenToList)))\n",
    "\n",
    "#channelToList = customers['Channel'].tolist()\n",
    "#print(\"Channel Skewness: \" + str(skew(channelToList)))\n",
    "#print(\"Channel Kurtosis: \" + str(kurtosis(channelToList)))\n",
    "\n",
    "#regionToList = customers['Region'].tolist()\n",
    "#print(\"Region Skewness: \" + str(skew(regionToList)))\n",
    "#print(\"Region Kurtosis: \" + str(kurtosis(regionToList)))\n",
    "\n",
    "####### PLOT HISTOGRAMS FOR EACH #########"
   ]
  }
 ],
 "metadata": {
  "kernelspec": {
   "display_name": "Python 3",
   "language": "python",
   "name": "python3"
  },
  "language_info": {
   "codemirror_mode": {
    "name": "ipython",
    "version": 3
   },
   "file_extension": ".py",
   "mimetype": "text/x-python",
   "name": "python",
   "nbconvert_exporter": "python",
   "pygments_lexer": "ipython3",
   "version": "3.7.4"
  }
 },
 "nbformat": 4,
 "nbformat_minor": 2
}
