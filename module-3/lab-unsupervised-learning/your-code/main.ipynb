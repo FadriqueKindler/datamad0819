{
 "cells": [
  {
   "cell_type": "markdown",
   "metadata": {},
   "source": [
    "# Before your start:\n",
    "- Read the README.md file\n",
    "- Comment as much as you can and use the resources in the README.md file\n",
    "- Happy learning!"
   ]
  },
  {
   "cell_type": "code",
   "execution_count": 72,
   "metadata": {},
   "outputs": [],
   "source": [
    "# Import your libraries:\n",
    "\n",
    "%matplotlib inline\n",
    "\n",
    "import matplotlib.pyplot as plt\n",
    "import numpy as np\n",
    "import pandas as pd\n",
    "from scipy.stats import skew, kurtosis\n",
    "import seaborn as sns"
   ]
  },
  {
   "cell_type": "markdown",
   "metadata": {},
   "source": [
    "# Challenge 1 - Import and Describe the Dataset\n",
    "\n",
    "In this lab, we will use a dataset containing information about customer preferences. We will look at how much each customer spends in a year on each subcategory in the grocery store and try to find similarities using clustering.\n",
    "\n",
    "The origin of the dataset is [here](https://archive.ics.uci.edu/ml/datasets/wholesale+customers)."
   ]
  },
  {
   "cell_type": "code",
   "execution_count": 62,
   "metadata": {},
   "outputs": [],
   "source": [
    "# loading the data:\n",
    "customers = pd.read_csv('../Wholesale customers data.csv')"
   ]
  },
  {
   "cell_type": "markdown",
   "metadata": {},
   "source": [
    "#### Explore the dataset with mathematical and visualization techniques. What do you find?\n",
    "\n",
    "Checklist:\n",
    "\n",
    "* What does each column mean?\n",
    "* Any categorical data to convert?\n",
    "* Any missing data to remove?\n",
    "* Column collinearity - any high correlations?\n",
    "* Descriptive statistics - any outliers to remove?\n",
    "* Column-wise data distribution - is the distribution skewed?\n",
    "* Etc.\n",
    "\n",
    "Additional info: Over a century ago, an Italian economist named Vilfredo Pareto discovered that roughly 20% of the customers account for 80% of the typical retail sales. This is called the [Pareto principle](https://en.wikipedia.org/wiki/Pareto_principle). Check if this dataset displays this characteristic."
   ]
  },
  {
   "cell_type": "code",
   "execution_count": 63,
   "metadata": {},
   "outputs": [
    {
     "name": "stdout",
     "output_type": "stream",
     "text": [
      "   Channel  Region  Fresh  Milk  Grocery  Frozen  Detergents_Paper  Delicassen\n",
      "0        2       3  12669  9656     7561     214              2674        1338\n",
      "1        2       3   7057  9810     9568    1762              3293        1776\n",
      "2        2       3   6353  8808     7684    2405              3516        7844\n",
      "3        1       3  13265  1196     4221    6404               507        1788\n",
      "4        2       3  22615  5410     7198    3915              1777        5185\n"
     ]
    }
   ],
   "source": [
    "## CHECKING DF & COLUMN NAMES\n",
    "\n",
    "print(customers.head()) \n"
   ]
  },
  {
   "cell_type": "code",
   "execution_count": 64,
   "metadata": {},
   "outputs": [
    {
     "name": "stdout",
     "output_type": "stream",
     "text": [
      "Channel             int64\n",
      "Region              int64\n",
      "Fresh               int64\n",
      "Milk                int64\n",
      "Grocery             int64\n",
      "Frozen              int64\n",
      "Detergents_Paper    int64\n",
      "Delicassen          int64\n",
      "dtype: object\n"
     ]
    }
   ],
   "source": [
    "## CHECKING VALUE TYPES DF\n",
    "\n",
    "print(customers.dtypes)\n"
   ]
  },
  {
   "cell_type": "code",
   "execution_count": 65,
   "metadata": {},
   "outputs": [
    {
     "name": "stdout",
     "output_type": "stream",
     "text": [
      "shape : (440, 8)\n"
     ]
    }
   ],
   "source": [
    "## CHECKING DF SHAPE\n",
    "\n",
    "print(\"shape : \" + str(customers.shape))\n"
   ]
  },
  {
   "cell_type": "code",
   "execution_count": 66,
   "metadata": {},
   "outputs": [
    {
     "name": "stdout",
     "output_type": "stream",
     "text": [
      "Unique values for Region: [3 1 2]\n",
      "Unique values for Channel: [2 1]\n"
     ]
    }
   ],
   "source": [
    "## CHECKING FOR UNIQUE VALUES IN COLUMNS\n",
    "\n",
    "print(\"Unique values for Region: \" + str(customers.Region.unique()))\n",
    "print(\"Unique values for Channel: \" + str(customers.Channel.unique()))\n"
   ]
  },
  {
   "cell_type": "code",
   "execution_count": 67,
   "metadata": {},
   "outputs": [
    {
     "name": "stdout",
     "output_type": "stream",
     "text": [
      "Checking Null values by Column : Channel             0\n",
      "Region              0\n",
      "Fresh               0\n",
      "Milk                0\n",
      "Grocery             0\n",
      "Frozen              0\n",
      "Detergents_Paper    0\n",
      "Delicassen          0\n",
      "dtype: int64\n"
     ]
    }
   ],
   "source": [
    "## CHECKING NUM OF NULL VALUES PER COLUMN\n",
    "\n",
    "print(\"Checking Null values by Column : \" + str(customers.isna().sum()))\n"
   ]
  },
  {
   "cell_type": "code",
   "execution_count": 68,
   "metadata": {},
   "outputs": [
    {
     "name": "stdout",
     "output_type": "stream",
     "text": [
      "          Channel      Region          Fresh          Milk       Grocery  \\\n",
      "count  440.000000  440.000000     440.000000    440.000000    440.000000   \n",
      "mean     1.322727    2.543182   12000.297727   5796.265909   7951.277273   \n",
      "std      0.468052    0.774272   12647.328865   7380.377175   9503.162829   \n",
      "min      1.000000    1.000000       3.000000     55.000000      3.000000   \n",
      "25%      1.000000    2.000000    3127.750000   1533.000000   2153.000000   \n",
      "50%      1.000000    3.000000    8504.000000   3627.000000   4755.500000   \n",
      "75%      2.000000    3.000000   16933.750000   7190.250000  10655.750000   \n",
      "max      2.000000    3.000000  112151.000000  73498.000000  92780.000000   \n",
      "\n",
      "             Frozen  Detergents_Paper    Delicassen  \n",
      "count    440.000000        440.000000    440.000000  \n",
      "mean    3071.931818       2881.493182   1524.870455  \n",
      "std     4854.673333       4767.854448   2820.105937  \n",
      "min       25.000000          3.000000      3.000000  \n",
      "25%      742.250000        256.750000    408.250000  \n",
      "50%     1526.000000        816.500000    965.500000  \n",
      "75%     3554.250000       3922.000000   1820.250000  \n",
      "max    60869.000000      40827.000000  47943.000000  \n"
     ]
    }
   ],
   "source": [
    "## MORE IN-DEPTH DESCRIPTION OF DF VALUES\n",
    "\n",
    "print(customers.describe())\n"
   ]
  },
  {
   "cell_type": "code",
   "execution_count": 69,
   "metadata": {},
   "outputs": [
    {
     "name": "stdout",
     "output_type": "stream",
     "text": [
      "Fresh median: 8504.0\n",
      "Milk median: 3627.0\n",
      "Grocery median: 4755.5\n",
      "Frozen median: 1526.0\n",
      "Detergents_Paper median: 816.5\n",
      "Delicassen median: 965.5\n",
      "Channel median: 1.0\n",
      "Region median: 3.0\n",
      "Fresh mode: 18044\n",
      "Milk mode: 5139\n",
      "Grocery mode: 10391\n",
      "Frozen mode: 4324\n",
      "Detergents_Paper mode: 955\n",
      "Delicassen mode: 834\n",
      "Channel mode: 1\n",
      "Region mode: 3\n"
     ]
    }
   ],
   "source": [
    "## FINDING MEDIAN AND MODE FOR ALL COLUMNS\n",
    "\n",
    "print(\"Fresh median: \" + str (customers.Fresh.median()))\n",
    "print(\"Milk median: \" + str (customers.Milk.median()))\n",
    "print(\"Grocery median: \" + str (customers.Grocery.median()))\n",
    "print(\"Frozen median: \" + str (customers.Frozen.median()))\n",
    "print(\"Detergents_Paper median: \" + str (customers.Detergents_Paper.median()))\n",
    "print(\"Delicassen median: \" + str (customers.Delicassen.median()))\n",
    "print(\"Channel median: \" + str (customers.Channel.median()))\n",
    "print(\"Region median: \" + str (customers.Region.median()))\n",
    "\n",
    "print(\"Fresh mode: \" + str (max(customers.Fresh.mode())))\n",
    "print(\"Milk mode: \" + str (max(customers.Milk.mode())))\n",
    "print(\"Grocery mode: \" + str (max(customers.Grocery.mode())))\n",
    "print(\"Frozen mode: \" + str (max(customers.Frozen.mode())))\n",
    "print(\"Detergents_Paper mode: \" + str (max(customers.Detergents_Paper.mode())))\n",
    "print(\"Delicassen mode: \" + str (max(customers.Delicassen.mode())))\n",
    "print(\"Channel mode: \" + str (max(customers.Channel.mode())))\n",
    "print(\"Region mode: \" + str (max(customers.Region.mode())))"
   ]
  },
  {
   "cell_type": "code",
   "execution_count": 70,
   "metadata": {},
   "outputs": [
    {
     "name": "stdout",
     "output_type": "stream",
     "text": [
      "Fresh Skewness: 2.5525826879071585\n",
      "Fresh Kurtosis: 11.392123947034221\n",
      "Milk Skewness: 4.039922122788577\n",
      "Milk Kurtosis: 24.37634877176706\n",
      "Grocery Skewness: 3.5751872200807875\n",
      "Grocery Kurtosis: 20.664153228293365\n",
      "Frozen Skewness: 5.887825728957787\n",
      "Frozen Kurtosis: 54.05618035816968\n",
      "DetergentsPaper Skewness: 3.6194575783115934\n",
      "DetergentsPaperh Kurtosis: 18.78052846649548\n",
      "Delicassen Skewness: 11.113533648709097\n",
      "Delicassen Kurtosis: 168.7477805064442\n",
      "Channel Skewness: 0.7583545453215589\n",
      "Channel Kurtosis: -1.4248983835901317\n",
      "Region Skewness: -1.279246778599258\n",
      "Region Kurtosis: -0.1125822676776278\n"
     ]
    }
   ],
   "source": [
    "## FINDING SKEWNESS AND KURTOSIS FOR EACH COLUMN\n",
    "\n",
    "FreshToList = customers['Fresh'].tolist()\n",
    "print(\"Fresh Skewness: \" + str(skew(FreshToList)))\n",
    "print(\"Fresh Kurtosis: \" + str(kurtosis(FreshToList)))\n",
    "\n",
    "MilkToList = customers['Milk'].tolist()\n",
    "print(\"Milk Skewness: \" + str(skew(MilkToList)))\n",
    "print(\"Milk Kurtosis: \" + str(kurtosis(MilkToList)))\n",
    "\n",
    "GroceryToList = customers['Grocery'].tolist()\n",
    "print(\"Grocery Skewness: \" + str(skew(GroceryToList)))\n",
    "print(\"Grocery Kurtosis: \" + str(kurtosis(GroceryToList)))\n",
    "\n",
    "FrozenToList = customers['Frozen'].tolist()\n",
    "print(\"Frozen Skewness: \" + str(skew(FrozenToList)))\n",
    "print(\"Frozen Kurtosis: \" + str(kurtosis(FrozenToList)))\n",
    "\n",
    "DetergentsPaperToList = customers['Detergents_Paper'].tolist()\n",
    "print(\"DetergentsPaper Skewness: \" + str(skew(DetergentsPaperToList)))\n",
    "print(\"DetergentsPaperh Kurtosis: \" + str(kurtosis(DetergentsPaperToList)))\n",
    "\n",
    "DelicassenToList = customers['Delicassen'].tolist()\n",
    "print(\"Delicassen Skewness: \" + str(skew(DelicassenToList)))\n",
    "print(\"Delicassen Kurtosis: \" + str(kurtosis(DelicassenToList)))\n",
    "\n",
    "ChannelToList = customers['Channel'].tolist()\n",
    "print(\"Channel Skewness: \" + str(skew(ChannelToList)))\n",
    "print(\"Channel Kurtosis: \" + str(kurtosis(ChannelToList)))\n",
    "\n",
    "RegionToList = customers['Region'].tolist()\n",
    "print(\"Region Skewness: \" + str(skew(RegionToList)))\n",
    "print(\"Region Kurtosis: \" + str(kurtosis(RegionToList)))\n",
    "\n",
    "####### PLOT HISTOGRAMS FOR EACH #########\n"
   ]
  },
  {
   "cell_type": "code",
   "execution_count": 84,
   "metadata": {},
   "outputs": [
    {
     "data": {
      "image/png": "[encoded data removed]",
      "text/plain": [
       "<Figure size 576x576 with 2 Axes>"
      ]
     },
     "metadata": {
      "needs_background": "light"
     },
     "output_type": "display_data"
    }
   ],
   "source": [
    "## CHECKING CORRELATION BETWEEN COLUMNS\n",
    "correlation_matrix = customers.corr()\n",
    "fig, ax = plt.subplots(figsize=(8,8))\n",
    "corr_heat_map = sns.heatmap(correlation_matrix, annot = True, square= True, ax=ax)\n",
    "corr_heat_map;\n"
   ]
  },
  {
   "cell_type": "code",
   "execution_count": null,
   "metadata": {},
   "outputs": [],
   "source": [
    "## MY OBSERVATIONS\n",
    "\n",
    "## What does each column mean?\n",
    "# DESCRIPTION OF COLUMNS\n",
    "\n",
    "\"\"\"\n",
    "1) FRESH: annual spending (m.u.) on fresh products (Continuous);\n",
    "2) MILK: annual spending (m.u.) on milk products (Continuous);\n",
    "3) GROCERY: annual spending (m.u.)on grocery products (Continuous);\n",
    "4) FROZEN: annual spending (m.u.)on frozen products (Continuous)\n",
    "5) DETERGENTS_PAPER: annual spending (m.u.) on detergents and paper products (Continuous)\n",
    "6) DELICATESSEN: annual spending (m.u.)on and delicatessen products (Continuous);\n",
    "7) CHANNEL: customer Channel - Horeca (Hotel/Restaurant/Cafe) or Retail channel (Nominal)\n",
    "8) REGION: customers Region: Lisbon, Oporto or Other (Nominal)\n",
    "\"\"\"\n",
    "\n",
    "## Any categorical data to convert?\n",
    "# NO\n",
    "\n",
    "## Descriptive statistics - any outliers to remove?\n",
    "# THERE ARE OUTLIERS TO REMOVE\n",
    "\n",
    "## Any missing data to remove?\n",
    "# NO\n",
    "\n",
    "## Column collinearity - any high correlations?\n",
    "# NO\n",
    "\n",
    "## Column-wise data distribution - is the distribution skewed?\n",
    "# THE DISTRIBUTION IS VERY SKEWED\n"
   ]
  },
  {
   "cell_type": "markdown",
   "metadata": {},
   "source": [
    "# Challenge 2 - Data Cleaning and Transformation\n",
    "\n",
    "If your conclusion from the previous challenge is the data need cleaning/transformation, do it in the cells below. However, if your conclusion is the data need not be cleaned or transformed, feel free to skip this challenge. But if you do choose the latter, please provide rationale."
   ]
  },
  {
   "cell_type": "code",
   "execution_count": null,
   "metadata": {},
   "outputs": [],
   "source": [
    "# Your code here\n",
    "\n"
   ]
  },
  {
   "cell_type": "code",
   "execution_count": null,
   "metadata": {},
   "outputs": [],
   "source": [
    "# Your comment here\n",
    "\n"
   ]
  },
  {
   "cell_type": "markdown",
   "metadata": {},
   "source": [
    "# Challenge 3 - Data Preprocessing\n",
    "\n",
    "One problem with the dataset is the value ranges are remarkably different across various categories (e.g. `Fresh` and `Grocery` compared to `Detergents_Paper` and `Delicassen`). If you made this observation in the first challenge, you've done a great job! This means you not only completed the bonus questions in the previous Supervised Learning lab but also researched deep into [*feature scaling*](https://en.wikipedia.org/wiki/Feature_scaling). Keep on the good work!\n",
    "\n",
    "Diverse value ranges in different features could cause issues in our clustering. The way to reduce the problem is through feature scaling. We'll use this technique again with this dataset.\n",
    "\n",
    "#### We will use the `StandardScaler` from `sklearn.preprocessing` and scale our data. Read more about `StandardScaler` [here](https://scikit-learn.org/stable/modules/generated/sklearn.preprocessing.StandardScaler.html#sklearn.preprocessing.StandardScaler).\n",
    "\n",
    "*After scaling your data, assign the transformed data to a new variable `customers_scale`.*"
   ]
  },
  {
   "cell_type": "code",
   "execution_count": null,
   "metadata": {},
   "outputs": [],
   "source": [
    "# Your import here:\n",
    "\n",
    "from sklearn.preprocessing import StandardScaler\n",
    "\n",
    "# Your code here:\n"
   ]
  },
  {
   "cell_type": "markdown",
   "metadata": {},
   "source": [
    "# Challenge 3 - Data Clustering with K-Means\n",
    "\n",
    "Now let's cluster the data with K-Means first. Initiate the K-Means model, then fit your scaled data. In the data returned from the `.fit` method, there is an attribute called `labels_` which is the cluster number assigned to each data record. What you can do is to assign these labels back to `customers` in a new column called `customers['labels']`. Then you'll see the cluster results of the original data."
   ]
  },
  {
   "cell_type": "code",
   "execution_count": null,
   "metadata": {
    "scrolled": true
   },
   "outputs": [],
   "source": [
    "# Your code here:\n"
   ]
  },
  {
   "cell_type": "markdown",
   "metadata": {},
   "source": [
    "Count the values in `labels`."
   ]
  },
  {
   "cell_type": "code",
   "execution_count": null,
   "metadata": {},
   "outputs": [],
   "source": [
    "# Your code here:\n"
   ]
  },
  {
   "cell_type": "markdown",
   "metadata": {},
   "source": [
    "# Challenge 4 - Data Clustering with DBSCAN\n",
    "\n",
    "Now let's cluster the data using DBSCAN. Use `DBSCAN(eps=0.5)` to initiate the model, then fit your scaled data. In the data returned from the `.fit` method, assign the `labels_` back to `customers['labels_DBSCAN']`. Now your original data have two labels, one from K-Means and the other from DBSCAN."
   ]
  },
  {
   "cell_type": "code",
   "execution_count": null,
   "metadata": {
    "scrolled": true
   },
   "outputs": [],
   "source": [
    "# Your code here\n"
   ]
  },
  {
   "cell_type": "markdown",
   "metadata": {},
   "source": [
    "Count the values in `labels_DBSCAN`."
   ]
  },
  {
   "cell_type": "code",
   "execution_count": null,
   "metadata": {},
   "outputs": [],
   "source": [
    "# Your code here\n"
   ]
  },
  {
   "cell_type": "markdown",
   "metadata": {},
   "source": [
    "# Challenge 5 - Compare K-Means with DBSCAN\n",
    "\n",
    "Now we want to visually compare how K-Means and DBSCAN have clustered our data. We will create scatter plots for several columns. For each of the following column pairs, plot a scatter plot using `labels` and another using `labels_DBSCAN`. Put them side by side to compare. Which clustering algorithm makes better sense?\n",
    "\n",
    "Columns to visualize:\n",
    "\n",
    "* `Detergents_Paper` as X and `Milk` as y\n",
    "* `Grocery` as X and `Fresh` as y\n",
    "* `Frozen` as X and `Delicassen` as y"
   ]
  },
  {
   "cell_type": "markdown",
   "metadata": {},
   "source": [
    "Visualize `Detergents_Paper` as X and `Milk` as y by `labels` and `labels_DBSCAN` respectively"
   ]
  },
  {
   "cell_type": "code",
   "execution_count": null,
   "metadata": {},
   "outputs": [],
   "source": [
    "# Your code here:\n"
   ]
  },
  {
   "cell_type": "markdown",
   "metadata": {},
   "source": [
    "Visualize `Grocery` as X and `Fresh` as y by `labels` and `labels_DBSCAN` respectively"
   ]
  },
  {
   "cell_type": "code",
   "execution_count": null,
   "metadata": {},
   "outputs": [],
   "source": [
    "# Your code here:\n"
   ]
  },
  {
   "cell_type": "markdown",
   "metadata": {},
   "source": [
    "Visualize `Frozen` as X and `Delicassen` as y by `labels` and `labels_DBSCAN` respectively"
   ]
  },
  {
   "cell_type": "code",
   "execution_count": null,
   "metadata": {},
   "outputs": [],
   "source": [
    "# Your code here:"
   ]
  },
  {
   "cell_type": "markdown",
   "metadata": {},
   "source": [
    "Let's use a groupby to see how the mean differs between the groups. Group `customers` by `labels` and `labels_DBSCAN` respectively and compute the means for all columns."
   ]
  },
  {
   "cell_type": "code",
   "execution_count": null,
   "metadata": {},
   "outputs": [],
   "source": [
    "# Your code here:\n"
   ]
  },
  {
   "cell_type": "markdown",
   "metadata": {},
   "source": [
    "Which algorithm appears to perform better?"
   ]
  },
  {
   "cell_type": "code",
   "execution_count": null,
   "metadata": {},
   "outputs": [],
   "source": [
    "# Your observations here"
   ]
  },
  {
   "cell_type": "markdown",
   "metadata": {},
   "source": [
    "# Bonus Challenge 2 - Changing K-Means Number of Clusters\n",
    "\n",
    "As we mentioned earlier, we don't need to worry about the number of clusters with DBSCAN because it automatically decides that based on the parameters we send to it. But with K-Means, we have to supply the `n_clusters` param (if you don't supply `n_clusters`, the algorithm will use `8` by default). You need to know that the optimal number of clusters differs case by case based on the dataset. K-Means can perform badly if the wrong number of clusters is used.\n",
    "\n",
    "In advanced machine learning, data scientists try different numbers of clusters and evaluate the results with statistical measures (read [here](https://en.wikipedia.org/wiki/Cluster_analysis#External_evaluation)). We are not using statistical measures today but we'll use our eyes instead. In the cells below, experiment with different number of clusters and visualize with scatter plots. What number of clusters seems to work best for K-Means?"
   ]
  },
  {
   "cell_type": "code",
   "execution_count": null,
   "metadata": {},
   "outputs": [],
   "source": [
    "# Your code here"
   ]
  },
  {
   "cell_type": "code",
   "execution_count": null,
   "metadata": {},
   "outputs": [],
   "source": [
    "# Your comment here"
   ]
  },
  {
   "cell_type": "markdown",
   "metadata": {},
   "source": [
    "# Bonus Challenge 3 - Changing DBSCAN `eps` and `min_samples`\n",
    "\n",
    "Experiment changing the `eps` and `min_samples` params for DBSCAN. See how the results differ with scatter plot visualization."
   ]
  },
  {
   "cell_type": "code",
   "execution_count": null,
   "metadata": {},
   "outputs": [],
   "source": [
    "# Your code here"
   ]
  },
  {
   "cell_type": "code",
   "execution_count": null,
   "metadata": {},
   "outputs": [],
   "source": [
    "# Your comment here"
   ]
  }
 ],
 "metadata": {
  "kernelspec": {
   "display_name": "Python 3",
   "language": "python",
   "name": "python3"
  },
  "language_info": {
   "codemirror_mode": {
    "name": "ipython",
    "version": 3
   },
   "file_extension": ".py",
   "mimetype": "text/x-python",
   "name": "python",
   "nbconvert_exporter": "python",
   "pygments_lexer": "ipython3",
   "version": "3.7.4"
  }
 },
 "nbformat": 4,
 "nbformat_minor": 2
}
